{
 "cells": [
  {
   "cell_type": "markdown",
   "metadata": {},
   "source": [
    "### example 1"
   ]
  },
  {
   "cell_type": "code",
   "execution_count": 10,
   "metadata": {},
   "outputs": [
    {
     "name": "stdout",
     "output_type": "stream",
     "text": [
      "item is not found\n"
     ]
    }
   ],
   "source": [
    "def binary(a,lIndex,rIndex,tarItem):\n",
    "    while lIndex <=rIndex:\n",
    "        mIndex=lIndex+(rIndex-lIndex)//2;\n",
    "        if a[mIndex]==tarItem:\n",
    "            return mIndex\n",
    "        if a[mIndex]>tarItem:\n",
    "            rIndex=mIndex-1\n",
    "        else:\n",
    "            lIndex=mIndex+1\n",
    "    return-1\n",
    "list1=[1,4,9,15,25,45,57,88,98]\n",
    "res=binary(list1,0,8,818)\n",
    "if res!=-1:\n",
    "    print(\"item is found\")\n",
    "else:\n",
    "    print(\"item is not found\")"
   ]
  },
  {
   "cell_type": "markdown",
   "metadata": {},
   "source": [
    "### example2"
   ]
  },
  {
   "cell_type": "code",
   "execution_count": 11,
   "metadata": {},
   "outputs": [],
   "source": [
    "### bubble sort"
   ]
  },
  {
   "cell_type": "code",
   "execution_count": 1,
   "metadata": {},
   "outputs": [
    {
     "name": "stdout",
     "output_type": "stream",
     "text": [
      "1 3 6 18 19 25 "
     ]
    }
   ],
   "source": [
    "def bubblesort(a):\n",
    "    for i in range(len(a)-1):\n",
    "        for j in range(len(a)-1):\n",
    "            if a[j]>a[j+1]:\n",
    "                a[j],a[j+1]=a[j+1],a[j]\n",
    "    for i in range(len(a)):\n",
    "        print(a[i],end=\" \")\n",
    "lst1=[19,1,25,6,18,3]\n",
    "bubblesort(lst1)"
   ]
  },
  {
   "cell_type": "code",
   "execution_count": null,
   "metadata": {},
   "outputs": [],
   "source": [
    "###example 3"
   ]
  },
  {
   "cell_type": "code",
   "execution_count": 2,
   "metadata": {},
   "outputs": [
    {
     "name": "stdout",
     "output_type": "stream",
     "text": [
      "karthik\n",
      "str[0]= k\n",
      "str[1]= a\n",
      "str[:3]= kar\n",
      "str[0:3]= kar\n"
     ]
    }
   ],
   "source": [
    "str=\"karthik\"\n",
    "print(str)\n",
    "print(\"str[0]=\",str[0])\n",
    "print(\"str[1]=\",str[1])\n",
    "print(\"str[:3]=\",str[:3])\n",
    "print(\"str[0:3]=\",str[0:3])"
   ]
  },
  {
   "cell_type": "code",
   "execution_count": 1,
   "metadata": {},
   "outputs": [],
   "source": [
    "### example 4"
   ]
  },
  {
   "cell_type": "code",
   "execution_count": 2,
   "metadata": {},
   "outputs": [
    {
     "data": {
      "text/plain": [
       "5"
      ]
     },
     "execution_count": 2,
     "metadata": {},
     "output_type": "execute_result"
    }
   ],
   "source": [
    "def countdigits(n):\n",
    "    return len(n)\n",
    "\n",
    "countdigits(\"25410\")"
   ]
  },
  {
   "cell_type": "code",
   "execution_count": 3,
   "metadata": {},
   "outputs": [],
   "source": []
  },
  {
   "cell_type": "code",
   "execution_count": 6,
   "metadata": {},
   "outputs": [],
   "source": [
    "### example 6"
   ]
  },
  {
   "cell_type": "code",
   "execution_count": 12,
   "metadata": {},
   "outputs": [
    {
     "name": "stdout",
     "output_type": "stream",
     "text": [
      "1\n",
      "3\n"
     ]
    }
   ],
   "source": [
    "def countUppercase(str):\n",
    "    cnt=0\n",
    "    lst=list(str)\n",
    "    for x in range(len(lst)):\n",
    "        if ord(lst[x])>=65 and ord(lst[x])<=90:\n",
    "            cnt=cnt+1\n",
    "    return cnt\n",
    "    \n",
    "print(countUppercase(\"Application\"))\n",
    "print(countUppercase(\"TeST\"))\n",
    "    "
   ]
  },
  {
   "cell_type": "code",
   "execution_count": 13,
   "metadata": {},
   "outputs": [
    {
     "data": {
      "text/plain": [
       "'12345'"
      ]
     },
     "execution_count": 13,
     "metadata": {},
     "output_type": "execute_result"
    }
   ],
   "source": [
    "t=12345\n",
    "str(t)"
   ]
  },
  {
   "cell_type": "code",
   "execution_count": 14,
   "metadata": {},
   "outputs": [],
   "source": [
    "###example 7\n"
   ]
  },
  {
   "cell_type": "code",
   "execution_count": 10,
   "metadata": {},
   "outputs": [
    {
     "name": "stdout",
     "output_type": "stream",
     "text": [
      "2 0 0 1 None\n"
     ]
    }
   ],
   "source": [
    "def printdigits(str):\n",
    "    lst=list(str)\n",
    "    for x in range(len(lst)):\n",
    "        if ord(lst[x]) >=48 and ord(lst[x]) <=57:\n",
    "            print(lst[x],end=\" \")\n",
    "            \n",
    "            \n",
    "            \n",
    "print(printdigits(\"application2001\"))"
   ]
  },
  {
   "cell_type": "code",
   "execution_count": 1,
   "metadata": {},
   "outputs": [],
   "source": [
    "#### example 8\n"
   ]
  },
  {
   "cell_type": "code",
   "execution_count": 10,
   "metadata": {},
   "outputs": [
    {
     "data": {
      "text/plain": [
       "24"
      ]
     },
     "execution_count": 10,
     "metadata": {},
     "output_type": "execute_result"
    }
   ],
   "source": [
    "def sumofdigits(str):\n",
    "    sum=0\n",
    "    lst=list(str)\n",
    "    for x in range(len(lst)):\n",
    "        if ord(lst[x])>=48 and ord(lst[x])<=58:\n",
    "            sum=sum+ord(lst[x])-48;\n",
    "    return sum\n",
    "sumofdigits(\"application1968\")"
   ]
  },
  {
   "cell_type": "code",
   "execution_count": 11,
   "metadata": {},
   "outputs": [],
   "source": [
    "#### example 9"
   ]
  },
  {
   "cell_type": "code",
   "execution_count": 22,
   "metadata": {},
   "outputs": [
    {
     "name": "stdout",
     "output_type": "stream",
     "text": [
      "2\n",
      "10\n"
     ]
    }
   ],
   "source": [
    "def sumofevendigits(str):\n",
    "    sum=0\n",
    "    lst=list(str)\n",
    "    for x in range(len(lst)):\n",
    "        if ord(lst[x])>=48 and ord(lst[x]) <=57:\n",
    "            ac=ord(lst[x]) -48\n",
    "            if(ac%2==0):\n",
    "                sum=sum+ac\n",
    "    return sum\n",
    "print(sumofevendigits(\"PYTHON2001\"))\n",
    "print(sumofevendigits(\"apps1346\"))\n",
    "        "
   ]
  },
  {
   "cell_type": "code",
   "execution_count": null,
   "metadata": {},
   "outputs": [],
   "source": []
  }
 ],
 "metadata": {
  "kernelspec": {
   "display_name": "Python 3",
   "language": "python",
   "name": "python3"
  },
  "language_info": {
   "codemirror_mode": {
    "name": "ipython",
    "version": 3
   },
   "file_extension": ".py",
   "mimetype": "text/x-python",
   "name": "python",
   "nbconvert_exporter": "python",
   "pygments_lexer": "ipython3",
   "version": "3.7.3"
  }
 },
 "nbformat": 4,
 "nbformat_minor": 2
}
